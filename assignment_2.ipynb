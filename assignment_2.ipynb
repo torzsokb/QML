{
 "cells": [
  {
   "cell_type": "code",
   "execution_count": 6,
   "metadata": {},
   "outputs": [],
   "source": [
    "import pandas as pd\n",
    "import gurobipy as gp\n",
    "import gurobipy_pandas as gppd\n",
    "import numpy as np\n",
    "from itertools import product, combinations, permutations\n",
    "from gurobipy import GRB\n",
    "import scipy.sparse as sp\n",
    "import matplotlib.pyplot as plt\n",
    "from matplotlib.patches import Polygon\n",
    "from matplotlib.patches import FancyArrowPatch\n",
    "import networkx as nx"
   ]
  },
  {
   "cell_type": "code",
   "execution_count": 11,
   "metadata": {},
   "outputs": [],
   "source": [
    "data = pd.read_csv(\"assignment_files/assignment_2/Residential_areas_2.csv\", header=None, names=[\"x\", \"y\"])\n",
    "data.head()\n",
    "\n",
    "coordinates = {}\n",
    "locations = []\n",
    "\n",
    "for index, row in data.iterrows():\n",
    "    locations.append(index)\n",
    "    coordinates[index] = (row[\"x\"], row[\"y\"])\n",
    "\n",
    "def manhattan_dist(loc_1, loc_2):\n",
    "    l1 = coordinates[loc_1]\n",
    "    l2 = coordinates[loc_2]\n",
    "    return abs(l1[0] - l2[0]) + abs(l1[1] - l2[1])\n",
    "\n",
    "distance = {(l1, l2) : manhattan_dist(l1, l2) for l1, l2 in combinations(coordinates.keys(), 2)}"
   ]
  },
  {
   "cell_type": "code",
   "execution_count": 13,
   "metadata": {},
   "outputs": [],
   "source": [
    "m = gp.Model()\n",
    "\n",
    "x = m.addVars(distance.keys(), obj=distance, vtype=GRB.BINARY, name=\"x\")\n",
    "#x.update({{j, i}: x[i, j] for i,j in x.keys()})\n",
    "\n",
    "cons = m.addConstrs(x.sum(i, '*') == 2 for i in coordinates.keys())"
   ]
  },
  {
   "cell_type": "code",
   "execution_count": null,
   "metadata": {},
   "outputs": [],
   "source": [
    "def subtour_elim(model, where):\n",
    "    if where == GRB.Callback.MIPSOL:\n",
    "\n",
    "def subtours(edges):\n",
    "    unvisited = locations[:]\n",
    "    cycles = []\n",
    "\n",
    "    while unvisited:\n",
    "        cycle = []\n",
    "        neighbors = unvisited\n",
    "        while neighbors:\n",
    "            current = neighbors[0]\n",
    "            cycle.append(current)\n",
    "            unvisited.remove(current)\n",
    "            neighbors = [j, for ] "
   ]
  }
 ],
 "metadata": {
  "kernelspec": {
   "display_name": ".venv",
   "language": "python",
   "name": "python3"
  },
  "language_info": {
   "codemirror_mode": {
    "name": "ipython",
    "version": 3
   },
   "file_extension": ".py",
   "mimetype": "text/x-python",
   "name": "python",
   "nbconvert_exporter": "python",
   "pygments_lexer": "ipython3",
   "version": "3.11.9"
  }
 },
 "nbformat": 4,
 "nbformat_minor": 2
}
